{
 "cells": [
  {
   "cell_type": "raw",
   "id": "2483f249",
   "metadata": {},
   "source": [
    "\"\"\"Name: Sejal Bhausaheb Talekar\n",
    "   Roll No : 2331030\n",
    "   Assignment: 3\n",
    "   selection sort\"\"\""
   ]
  },
  {
   "cell_type": "code",
   "execution_count": 1,
   "id": "d0c21e2d",
   "metadata": {},
   "outputs": [
    {
     "name": "stdout",
     "output_type": "stream",
     "text": [
      "enter the size :7\n",
      "Enter the elements at index 0: 12\n",
      "Enter the elements at index 1: 29\n",
      "Enter the elements at index 2: 25\n",
      "Enter the elements at index 3: 8\n",
      "Enter the elements at index 4: 32\n",
      "Enter the elements at index 5: 17\n",
      "Enter the elements at index 6: 40\n",
      "After swapping1: [8, 29, 25, 12, 32, 17, 40]\n",
      "After swapping2: [8, 12, 25, 29, 32, 17, 40]\n",
      "After swapping3: [8, 12, 17, 29, 32, 25, 40]\n",
      "After swapping4: [8, 12, 17, 25, 32, 29, 40]\n",
      "After swapping5: [8, 12, 17, 25, 29, 32, 40]\n",
      "After swapping6: [8, 12, 17, 25, 29, 32, 40]\n",
      "Sorted Array: [8, 12, 17, 25, 29, 32, 40]\n"
     ]
    }
   ],
   "source": [
    "def selection_sort(arr):\n",
    "    for i in range(len(arr) - 1):\n",
    "        min_index = i\n",
    "        for j in range(i + 1, len(arr)):\n",
    "            if arr[j] < arr[min_index]:\n",
    "                min_index = j\n",
    "        arr[i], arr[min_index] = arr[min_index], arr[i]\n",
    "        print(f\"After swapping{i+1}: {arr}\")\n",
    "    return arr\n",
    "\n",
    "size = int(input(\"enter the size :\"))\n",
    "\n",
    "array= []\n",
    "for i in range (size):\n",
    "    num=int(input(f'Enter the elements at index {i}: '))\n",
    "    array.append(num)              \n",
    "\n",
    "selection_sort(array)\n",
    "\n",
    "print(\"Sorted Array:\", array)"
   ]
  },
  {
   "cell_type": "code",
   "execution_count": null,
   "id": "f2914d46",
   "metadata": {},
   "outputs": [],
   "source": [
    "def selection_sort(arr):\n",
    "    for i in range(len(arr)-1):\n",
    "        minindex = i\n",
    "        for j in range (i+1,len(arr)):\n",
    "            if arr[j]<arr[minindex]:\n",
    "                minindex = j\n",
    "                arr[i],arr[minindex]=arr[minindex],arr[i]\n",
    "    return arr\n",
    "\n",
    "size = int(input(\"Enter the size:\"))\n",
    "array = []\n",
    "for i in range(size):\n",
    "    num = int(input(f' enter the elemnts at index{i}: '))\n",
    "    array.append(num)\n",
    "\n",
    "selection_sort(array)\n",
    "\n",
    "print(\"Sorted element:\",array)\n",
    "    "
   ]
  },
  {
   "cell_type": "code",
   "execution_count": null,
   "id": "e147aa65",
   "metadata": {},
   "outputs": [],
   "source": [
    "def selection_sort(arr):\n",
    "    for i in range (len(arr)-1):\n",
    "        minindex = i\n",
    "        for j in range (i+1,len(arr)):\n",
    "            if arr[j]< arr[minindex]:\n",
    "                minindex = j\n",
    "        arr[i],arr[minindex]=arr[minindex],arr[i]\n",
    "    return arr\n",
    "\n",
    "size = int(input(\"Enter the size of an array\"))\n",
    "\n",
    "array = []\n",
    "for i in range(size):\n",
    "    num = int(input(f'Enter the elements at index{i}:'))\n",
    "    array.append(num)\n",
    "selection_sort(array)\n",
    "print(\"Sorted elemts\",array)\n",
    "\n",
    "\n",
    "    \n",
    "\n"
   ]
  },
  {
   "cell_type": "code",
   "execution_count": null,
   "id": "a1c5ed9d",
   "metadata": {},
   "outputs": [],
   "source": [
    "def selection_sort(arr):\n",
    "    for i in range(len(arr)-1):\n",
    "        minindex = i\n",
    "        for j in range(i+1,len(arr)):\n",
    "            if arr[j]<arr[minindex]:\n",
    "                minindex = j\n",
    "        arr[i],arr[minindex] = arr[minindex],arr[i]\n",
    "    return arr\n",
    "\n",
    "size = int(input(\"Enter the size for array:\"))\n",
    "array = []\n",
    "for i in range(size):\n",
    "    num = int(input(f'Enter the elements at index{i}:'))\n",
    "    array.append(num)\n",
    "    \n",
    "selection_sort(array)\n",
    "print(\"Sorted elemets\",array)\n",
    "    "
   ]
  },
  {
   "cell_type": "code",
   "execution_count": null,
   "id": "4a2883a2",
   "metadata": {},
   "outputs": [],
   "source": []
  }
 ],
 "metadata": {
  "kernelspec": {
   "display_name": "Python 3 (ipykernel)",
   "language": "python",
   "name": "python3"
  },
  "language_info": {
   "codemirror_mode": {
    "name": "ipython",
    "version": 3
   },
   "file_extension": ".py",
   "mimetype": "text/x-python",
   "name": "python",
   "nbconvert_exporter": "python",
   "pygments_lexer": "ipython3",
   "version": "3.9.12"
  }
 },
 "nbformat": 4,
 "nbformat_minor": 5
}
