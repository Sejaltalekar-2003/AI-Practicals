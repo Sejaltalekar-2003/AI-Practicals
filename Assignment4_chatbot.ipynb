{
 "cells": [
  {
   "cell_type": "raw",
   "id": "92335c17",
   "metadata": {},
   "source": [
    "\"\"\"Name : Sejal Bhausaheb Talekar\n",
    "   Roll no :2331030\n",
    "   Assignment : 4\n",
    "   chat bot\n",
    "\"\"\""
   ]
  },
  {
   "cell_type": "code",
   "execution_count": 3,
   "id": "8b016296",
   "metadata": {},
   "outputs": [
    {
     "name": "stdout",
     "output_type": "stream",
     "text": [
      "Hello! my name is Sejal.\n",
      "My birth year is 2003.\n",
      "Please,remind me your name:\n",
      "Sejal\n",
      "hello Sejal\n",
      "what a great! name you have...\n",
      "Let me know your age:\n",
      "20\n",
      "My age is 20\n",
      "Enter the reminders of dividing your age by 3, 5 and 7.\n",
      "2\n",
      "0\n",
      "6\n",
      "okayy so your age is 20 so you are able to do coding now\n",
      "Let me know which languages you know:\n",
      "cpp java\n",
      "Great! You know the some languages like cpp java\n",
      "Let's ckeck your programming knowledge\n",
      "Why do we use functions?\n",
      "1. To repeat a statement multiple times.\n",
      "2. To promote code modularity by breaking down complex tasks into smaller, manageable functions.\n",
      "3. To determine the execution time of a program.\n",
      "4. To pass parameters and customize the behavior of functions for different use cases.\n",
      "1\n",
      "Please, try again.\n",
      "2\n",
      "Completed\n",
      "Completed....!!\n",
      "Thank you for your Rsponse..\n"
     ]
    }
   ],
   "source": [
    "def greet(name,year):\n",
    "    print(\"Hello! my name is {0}.\".format(name))\n",
    "    print(\"My birth year is {0}.\".format(year)) \n",
    "\n",
    "def remind_name():\n",
    "    print(\"Please,remind me your name:\")\n",
    "    name = input()\n",
    "    print(\"hello\",name)\n",
    "    print(\"what a great! name you have...\")\n",
    "\n",
    "def age():\n",
    "    print(\"Let me know your age:\")\n",
    "    num= input()\n",
    "    print(\"My age is\",num)\n",
    "    print('Enter the reminders of dividing your age by 3, 5 and 7.')\n",
    "    rem3 = int(input())     \n",
    "    rem5 = int(input())     \n",
    "    rem7 = int(input())     \n",
    "    cal_age = (rem3 * 70 + rem5 * 21 + rem7 * 15) % 105 \n",
    "    print(\"okayy so your age is {0} so you are able to do coding now\".format(cal_age))\n",
    "\n",
    "def count():\n",
    "    print(\"Let me know which languages you know:\")\n",
    "    lan = input()\n",
    "    if lan:\n",
    "        print(\"Great! You know the some languages like\",lan)\n",
    "    else:\n",
    "        print(\"It seems you don't know any languages. No worries!\")\n",
    "    \n",
    "\n",
    "\n",
    "def test():\n",
    "    print(\"Let's ckeck your programming knowledge\")\n",
    "    print(\"Why do we use functions?\")\n",
    "    print(\"1. To repeat a statement multiple times.\")     \n",
    "    print(\"2. To promote code modularity by breaking down complex tasks into smaller, manageable functions.\")     \n",
    "    print(\"3. To determine the execution time of a program.\")     \n",
    "    print(\"4. To pass parameters and customize the behavior of functions for different use cases.\") \n",
    "    ans = 2\n",
    "    check= int(input())\n",
    "    while check != ans:\n",
    "        print(\"Please, try again.\")\n",
    "        check=int(input())\n",
    "    print(\"Completed\")\n",
    "       \n",
    "        \n",
    "def Thank():\n",
    "    print(\"Completed....!!\")\n",
    "    print(\"Thank you for your Rsponse..\")\n",
    "    \n",
    "greet(\"Sejal\",'2003')\n",
    "remind_name()\n",
    "age()\n",
    "count()\n",
    "test()\n",
    "Thank()\n",
    "\n",
    "\n",
    "    \n",
    "    \n",
    "    "
   ]
  },
  {
   "cell_type": "code",
   "execution_count": null,
   "id": "f7288a44",
   "metadata": {},
   "outputs": [],
   "source": []
  },
  {
   "cell_type": "code",
   "execution_count": null,
   "id": "60cb7f8f",
   "metadata": {},
   "outputs": [],
   "source": []
  },
  {
   "cell_type": "code",
   "execution_count": null,
   "id": "77aa95e0",
   "metadata": {},
   "outputs": [],
   "source": []
  }
 ],
 "metadata": {
  "kernelspec": {
   "display_name": "Python 3 (ipykernel)",
   "language": "python",
   "name": "python3"
  },
  "language_info": {
   "codemirror_mode": {
    "name": "ipython",
    "version": 3
   },
   "file_extension": ".py",
   "mimetype": "text/x-python",
   "name": "python",
   "nbconvert_exporter": "python",
   "pygments_lexer": "ipython3",
   "version": "3.9.12"
  }
 },
 "nbformat": 4,
 "nbformat_minor": 5
}
