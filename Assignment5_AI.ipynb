{
 "cells": [
  {
   "cell_type": "raw",
   "id": "39f99a56",
   "metadata": {},
   "source": [
    "Name: Sejal Bhausaheb Talekar\n",
    "Roll No: 2331030\n",
    "Batch B\n",
    "Assignment 5\n",
    "Aim:  Implement a solution for a Constraint Satisfaction Problem using Branch and \n",
    "Bound and Backtracking for n-queens problem.\n"
   ]
  },
  {
   "cell_type": "code",
   "execution_count": 5,
   "id": "8f31a327",
   "metadata": {},
   "outputs": [
    {
     "name": "stdout",
     "output_type": "stream",
     "text": [
      "Solution found:\n",
      "[1, 0, 0, 0, 0, 0, 0, 0]\n",
      "[0, 0, 0, 0, 1, 0, 0, 0]\n",
      "[0, 0, 0, 0, 0, 0, 0, 1]\n",
      "[0, 0, 0, 0, 0, 1, 0, 0]\n",
      "[0, 0, 1, 0, 0, 0, 0, 0]\n",
      "[0, 0, 0, 0, 0, 0, 1, 0]\n",
      "[0, 1, 0, 0, 0, 0, 0, 0]\n",
      "[0, 0, 0, 1, 0, 0, 0, 0]\n"
     ]
    },
    {
     "data": {
      "text/plain": [
       "True"
      ]
     },
     "execution_count": 5,
     "metadata": {},
     "output_type": "execute_result"
    }
   ],
   "source": [
    "def solve_queens(board=None, row=0):\n",
    "    if board is None:\n",
    "        board = [[0] * 8 for _ in range(8)]\n",
    "\n",
    "    if row >= len(board):\n",
    "        print(\"Solution found:\")\n",
    "        for r in board:\n",
    "            print(r)\n",
    "        return True\n",
    "\n",
    "    for col in range(len(board)):\n",
    "        if all(board[i][col] == 0 for i in range(row)) and\\\n",
    "           all(board[i][j] == 0 for i, j in zip(range(row, -1, -1), range(col, -1, -1))) and\\\n",
    "           all(board[i][j] == 0 for i, j in zip(range(row, -1, -1), range(col, len(board)))):\n",
    "            board[row][col] = 1\n",
    "            if solve_queens(board, row + 1):\n",
    "                return True\n",
    "            board[row][col] = 0\n",
    "    return False\n",
    "\n",
    "solve_queens()"
   ]
  },
  {
   "cell_type": "code",
   "execution_count": 11,
   "id": "2e22d844",
   "metadata": {},
   "outputs": [
    {
     "name": "stdout",
     "output_type": "stream",
     "text": [
      "Solution found\n",
      "[1, 0, 0, 0, 0, 0, 0, 0]\n",
      "[0, 0, 0, 0, 1, 0, 0, 0]\n",
      "[0, 0, 0, 0, 0, 0, 0, 1]\n",
      "[0, 0, 0, 0, 0, 1, 0, 0]\n",
      "[0, 0, 1, 0, 0, 0, 0, 0]\n",
      "[0, 0, 0, 0, 0, 0, 1, 0]\n",
      "[0, 1, 0, 0, 0, 0, 0, 0]\n",
      "[0, 0, 0, 1, 0, 0, 0, 0]\n"
     ]
    },
    {
     "data": {
      "text/plain": [
       "True"
      ]
     },
     "execution_count": 11,
     "metadata": {},
     "output_type": "execute_result"
    }
   ],
   "source": [
    "def solve_queens(board=None,row =0):\n",
    "    if board is None:\n",
    "        board = [[0]*8 for _ in range(8)]\n",
    "        \n",
    "    if row>= len(board):\n",
    "        print(\"Solution found\")\n",
    "        for r in board:\n",
    "            print(r)\n",
    "        return True\n",
    "    \n",
    "    for col in range(len(board)):\n",
    "        if all(board[i][col]== 0 for i in range(row))and\\\n",
    "           all(board[i][j]==0 for i , j in zip(range(row,-1,-1),range(col,-1,-1)))and\\\n",
    "           all(board[i][j]==0 for i , j in zip(range(row,-1,-1),range(col,len(board)))):\n",
    "            board[row][col]=1\n",
    "            if solve_queens(board,row+1):\n",
    "                return True\n",
    "            board[row][col]=0\n",
    "    return False\n",
    "\n",
    "solve_queens()\n",
    "            "
   ]
  },
  {
   "cell_type": "code",
   "execution_count": null,
   "id": "5dbf1f47",
   "metadata": {},
   "outputs": [],
   "source": []
  }
 ],
 "metadata": {
  "kernelspec": {
   "display_name": "Python 3 (ipykernel)",
   "language": "python",
   "name": "python3"
  },
  "language_info": {
   "codemirror_mode": {
    "name": "ipython",
    "version": 3
   },
   "file_extension": ".py",
   "mimetype": "text/x-python",
   "name": "python",
   "nbconvert_exporter": "python",
   "pygments_lexer": "ipython3",
   "version": "3.9.12"
  }
 },
 "nbformat": 4,
 "nbformat_minor": 5
}
