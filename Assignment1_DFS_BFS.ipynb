{
 "cells": [
  {
   "cell_type": "raw",
   "id": "3ce6da51",
   "metadata": {},
   "source": [
    "\"\"\"Name : Sejal Bhausaheb Talekar\n",
    "   roll No : 2331030\n",
    "   batch : B\n",
    "   Assignemnt 1: Implement depth first search algorithm and Breadth First Search algorithm, Use an undirected\n",
    "   graph and develop a recursive algorithm for searching all the vertices of a graph or tree data\n",
    "   structure. \"\"\""
   ]
  },
  {
   "cell_type": "code",
   "execution_count": 20,
   "id": "f80e69c8",
   "metadata": {},
   "outputs": [
    {
     "name": "stdout",
     "output_type": "stream",
     "text": [
      "A\n",
      "B\n",
      "C\n",
      "D\n",
      "E\n",
      "F\n"
     ]
    },
    {
     "data": {
      "text/plain": [
       "['A', 'B', 'C', 'D', 'E', 'F']"
      ]
     },
     "execution_count": 20,
     "metadata": {},
     "output_type": "execute_result"
    }
   ],
   "source": [
    "#Queue--> first in first out  \n",
    "# BFS\n",
    "# both O(b^d)\n",
    "def bfs(graph, start):\n",
    "    visited = []\n",
    "    queue = [start]\n",
    "\n",
    "    while queue:\n",
    "        current_node = queue.pop(0)\n",
    "        if current_node not in visited:\n",
    "            print(current_node)\n",
    "            visited.append(current_node)\n",
    "            queue.extend(graph.get(current_node, set()))\n",
    "\n",
    "    return visited\n",
    "\n",
    "# Define the graph dictionary\n",
    "graph_dict = {'A': ['B', 'C'],\n",
    "              'B': ['D', 'E'],\n",
    "              'C': ['F'],\n",
    "              'D': [],\n",
    "              'E': ['F'],\n",
    "              'F': []}\n",
    "\n",
    "# Call BFS with the graph dictionary\n",
    "bfs(graph_dict, 'A')\n"
   ]
  },
  {
   "cell_type": "code",
   "execution_count": 12,
   "id": "9b18e6fc",
   "metadata": {},
   "outputs": [
    {
     "name": "stdout",
     "output_type": "stream",
     "text": [
      "A\n",
      "C\n",
      "G\n",
      "F\n",
      "B\n",
      "E\n",
      "D\n"
     ]
    },
    {
     "data": {
      "text/plain": [
       "['A', 'C', 'G', 'F', 'B', 'E', 'D']"
      ]
     },
     "execution_count": 12,
     "metadata": {},
     "output_type": "execute_result"
    }
   ],
   "source": [
    "# DFS\n",
    "def dfs(graph, start, visited=None):\n",
    "    if visited is None:\n",
    "        visited = []\n",
    "\n",
    "    visited.append(start)\n",
    "    print(start)\n",
    "\n",
    "    for next_vertex in graph.get(start, []):\n",
    "        if next_vertex not in visited:\n",
    "            dfs(graph, next_vertex, visited)\n",
    "\n",
    "    return visited\n",
    "\n",
    "# Define the graph dictionary\n",
    "graph = {'A': ['C', 'B'],\n",
    "         'B': ['E', 'D'],\n",
    "         'C': ['G','F'],\n",
    "         'D': [],\n",
    "         'E': [],\n",
    "         'F': [],\n",
    "         'G': []\n",
    "        }\n",
    "\n",
    "# Call DFS with the graph dictionary\n",
    "dfs(graph, 'A')\n"
   ]
  },
  {
   "cell_type": "code",
   "execution_count": 16,
   "id": "df1a7584",
   "metadata": {},
   "outputs": [
    {
     "name": "stdout",
     "output_type": "stream",
     "text": [
      "A\n",
      "C\n",
      "G\n",
      "F\n",
      "B\n",
      "E\n",
      "D\n"
     ]
    }
   ],
   "source": [
    "#dfs -> last in last out\n",
    "# Time complexity O(n^m)\n",
    "# space O(bm)\n",
    "\n",
    "def dfs_recursive(graph, vertex, visited):\n",
    "    if vertex not in visited:\n",
    "        visited.append(vertex)\n",
    "        print(vertex)\n",
    "\n",
    "        for neighbor in reversed(graph[vertex]):\n",
    "            dfs_recursive(graph, neighbor, visited)\n",
    "\n",
    "def dfs(graph, start):\n",
    "    visited = []\n",
    "    dfs_recursive(graph, start, visited)\n",
    "\n",
    "# Example usage\n",
    "graph = {\n",
    "    'A': ['B', 'C'],\n",
    "    'B': ['D', 'E'],\n",
    "    'C': ['F', 'G'],\n",
    "    'D': [],\n",
    "    'E': [],\n",
    "    'F': [],\n",
    "    'G': []\n",
    "}\n",
    "\n",
    "dfs(graph, 'A')\n",
    "\n",
    "\n"
   ]
  },
  {
   "cell_type": "code",
   "execution_count": 17,
   "id": "c86e9784",
   "metadata": {},
   "outputs": [
    {
     "name": "stdout",
     "output_type": "stream",
     "text": [
      "A\n",
      "B\n",
      "D\n",
      "E\n",
      "C\n",
      "F\n",
      "G\n"
     ]
    }
   ],
   "source": [
    "def dfs_stack(graph, start):\n",
    "    visited = set()\n",
    "    stack = [start]\n",
    "\n",
    "    while stack:\n",
    "        current_vertex = stack.pop()\n",
    "        if current_vertex not in visited:\n",
    "            print(current_vertex)\n",
    "            visited.add(current_vertex)\n",
    "            stack.extend(reversed(graph[current_vertex]))\n",
    "\n",
    "# Example usage\n",
    "graph = {\n",
    "    'A': ['B', 'C'],\n",
    "    'B': ['D', 'E'],\n",
    "    'C': ['F', 'G'],\n",
    "    'D': [],\n",
    "    'E': [],\n",
    "    'F': [],\n",
    "    'G': []\n",
    "}\n",
    "\n",
    "dfs_stack(graph, 'A')\n"
   ]
  },
  {
   "cell_type": "code",
   "execution_count": 5,
   "id": "353f466c",
   "metadata": {},
   "outputs": [
    {
     "name": "stdout",
     "output_type": "stream",
     "text": [
      "A\n",
      "B\n",
      "C\n",
      "D\n",
      "E\n",
      "F\n"
     ]
    },
    {
     "data": {
      "text/plain": [
       "['A', 'B', 'C', 'D', 'E', 'F']"
      ]
     },
     "execution_count": 5,
     "metadata": {},
     "output_type": "execute_result"
    }
   ],
   "source": [
    "def bfs(graph,start):\n",
    "    visited = []\n",
    "    queue=[start]\n",
    "    \n",
    "    while queue:\n",
    "        current_node = queue.pop(0)\n",
    "        if current_node not in visited:\n",
    "            print(current_node)\n",
    "            visited.append(current_node)\n",
    "            queue.extend(graph.get(current_node,set()))\n",
    "    return visited\n",
    "\n",
    "graph_dict = {'A':['B','C'],\n",
    "              'B':['D','E'],\n",
    "              'C':['F'],\n",
    "              'D':[],\n",
    "              'E':['F'],\n",
    "              'F':[]}\n",
    "\n",
    "bfs(graph_dict,'A')"
   ]
  },
  {
   "cell_type": "code",
   "execution_count": 11,
   "id": "6a20d668",
   "metadata": {},
   "outputs": [
    {
     "name": "stdout",
     "output_type": "stream",
     "text": [
      "A\n",
      "C\n",
      "G\n",
      "F\n",
      "B\n",
      "E\n",
      "D\n"
     ]
    }
   ],
   "source": [
    "def dfs_recursive(graph,vertex,visited):\n",
    "    if vertex not in visited:\n",
    "        visited.append(vertex)\n",
    "        print(vertex)\n",
    "        \n",
    "        for neighbour in reversed (graph[vertex]):\n",
    "            dfs_recursive(graph,neighbour,visited)\n",
    "        \n",
    "def dfs (graph,start):\n",
    "    visited = []\n",
    "    dfs_recursive(graph,start,visited)\n",
    "    \n",
    "graph = {'A':['B','C'],\n",
    "         'B':['D','E'],\n",
    "         'C':['F','G'],\n",
    "         'D':[],\n",
    "         'E':[],\n",
    "         'F':[],\n",
    "         'G':[]\n",
    "}\n",
    "\n",
    "dfs(graph,'A')"
   ]
  },
  {
   "cell_type": "code",
   "execution_count": null,
   "id": "80b3086f",
   "metadata": {},
   "outputs": [],
   "source": []
  }
 ],
 "metadata": {
  "kernelspec": {
   "display_name": "Python 3 (ipykernel)",
   "language": "python",
   "name": "python3"
  },
  "language_info": {
   "codemirror_mode": {
    "name": "ipython",
    "version": 3
   },
   "file_extension": ".py",
   "mimetype": "text/x-python",
   "name": "python",
   "nbconvert_exporter": "python",
   "pygments_lexer": "ipython3",
   "version": "3.9.12"
  }
 },
 "nbformat": 4,
 "nbformat_minor": 5
}
